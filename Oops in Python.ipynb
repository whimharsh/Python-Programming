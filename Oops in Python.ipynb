{
 "cells": [
  {
   "cell_type": "raw",
   "id": "4f227100-f2b2-455e-a610-0488b4f91c20",
   "metadata": {},
   "source": [
    "OOPS in Python"
   ]
  },
  {
   "cell_type": "code",
   "execution_count": 30,
   "id": "2defe1fe-6109-4b1d-afe2-b2aa98e866a2",
   "metadata": {},
   "outputs": [],
   "source": [
    "class Car:\n",
    "    def __init__(self,window,door,enginetype):\n",
    "        self.windows=window\n",
    "        self.doors=door\n",
    "        self.enginetype=enginetype\n",
    "    def self_driving(self, enginetype):\n",
    "        return \"This is a {} car\".format(self.enginetype)\n"
   ]
  },
  {
   "cell_type": "code",
   "execution_count": 31,
   "id": "50521431-baf7-4fe6-bdcf-24a831b09f63",
   "metadata": {},
   "outputs": [],
   "source": [
    "car1=Car(4,2,\"Petrol\")"
   ]
  },
  {
   "cell_type": "code",
   "execution_count": 32,
   "id": "aca618bd-d8a1-4e02-a469-15ddde2c305f",
   "metadata": {},
   "outputs": [],
   "source": [
    "car2=Car(3,5,\"Petrol\")"
   ]
  },
  {
   "cell_type": "code",
   "execution_count": 33,
   "id": "9ab0c98f-559b-4b67-a831-8e2ccc7e50c9",
   "metadata": {},
   "outputs": [
    {
     "ename": "TypeError",
     "evalue": "Car.self_driving() missing 1 required positional argument: 'enginetype'",
     "output_type": "error",
     "traceback": [
      "\u001b[1;31m---------------------------------------------------------------------------\u001b[0m",
      "\u001b[1;31mTypeError\u001b[0m                                 Traceback (most recent call last)",
      "Cell \u001b[1;32mIn[33], line 1\u001b[0m\n\u001b[1;32m----> 1\u001b[0m \u001b[43mcar1\u001b[49m\u001b[38;5;241;43m.\u001b[39;49m\u001b[43mself_driving\u001b[49m\u001b[43m(\u001b[49m\u001b[43m)\u001b[49m\n",
      "\u001b[1;31mTypeError\u001b[0m: Car.self_driving() missing 1 required positional argument: 'enginetype'"
     ]
    }
   ],
   "source": [
    "car1.self_driving()"
   ]
  },
  {
   "cell_type": "code",
   "execution_count": 18,
   "id": "501414a4-ce5b-4ac7-a8b8-ff14bb92109c",
   "metadata": {},
   "outputs": [
    {
     "data": {
      "text/plain": [
       "<__main__.Car at 0x20dac0d1810>"
      ]
     },
     "execution_count": 18,
     "metadata": {},
     "output_type": "execute_result"
    }
   ],
   "source": [
    "car1"
   ]
  },
  {
   "cell_type": "code",
   "execution_count": 15,
   "id": "894007af-df69-40fa-bb98-5f2783f5a808",
   "metadata": {},
   "outputs": [],
   "source": [
    "car1.windows=5\n",
    "car1.doors=4\n"
   ]
  },
  {
   "cell_type": "code",
   "execution_count": 23,
   "id": "fb524627-f449-4eb8-891c-f6028e7676c0",
   "metadata": {},
   "outputs": [
    {
     "name": "stdout",
     "output_type": "stream",
     "text": [
      "4\n"
     ]
    }
   ],
   "source": [
    "print(car1.windows)"
   ]
  },
  {
   "cell_type": "code",
   "execution_count": 10,
   "id": "45a54a73-3481-4fbb-84c4-3749a1adf211",
   "metadata": {},
   "outputs": [],
   "source": [
    "car1.engine=\"Petrol\""
   ]
  },
  {
   "cell_type": "code",
   "execution_count": 11,
   "id": "18c7a81c-c659-4bf8-8328-d1dbedaa53dc",
   "metadata": {},
   "outputs": [
    {
     "name": "stdout",
     "output_type": "stream",
     "text": [
      "Petrol\n"
     ]
    }
   ],
   "source": [
    "print(car1.engine)"
   ]
  },
  {
   "cell_type": "code",
   "execution_count": 24,
   "id": "e88a1603-d96d-4de2-8392-4a5cf8d566bc",
   "metadata": {},
   "outputs": [
    {
     "name": "stdout",
     "output_type": "stream",
     "text": [
      "5\n"
     ]
    }
   ],
   "source": [
    "print(car2.doors)"
   ]
  },
  {
   "cell_type": "code",
   "execution_count": null,
   "id": "f98df236-ef09-4b36-a19a-deb13618c20a",
   "metadata": {},
   "outputs": [],
   "source": []
  }
 ],
 "metadata": {
  "kernelspec": {
   "display_name": "Python 3 (ipykernel)",
   "language": "python",
   "name": "python3"
  },
  "language_info": {
   "codemirror_mode": {
    "name": "ipython",
    "version": 3
   },
   "file_extension": ".py",
   "mimetype": "text/x-python",
   "name": "python",
   "nbconvert_exporter": "python",
   "pygments_lexer": "ipython3",
   "version": "3.11.5"
  }
 },
 "nbformat": 4,
 "nbformat_minor": 5
}
