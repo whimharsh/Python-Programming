{
 "cells": [
  {
   "cell_type": "raw",
   "id": "1986542a-6c4e-46cc-86f8-39e5229a7998",
   "metadata": {},
   "source": [
    "Functions"
   ]
  },
  {
   "cell_type": "code",
   "execution_count": 1,
   "id": "ed0269f4-9661-4376-b57a-400e9d783bc7",
   "metadata": {},
   "outputs": [],
   "source": [
    "num=24"
   ]
  },
  {
   "cell_type": "code",
   "execution_count": 2,
   "id": "fabba1a3-e616-4214-a1b3-34e39b945787",
   "metadata": {},
   "outputs": [],
   "source": [
    "def even_odd(num):\n",
    "    if num%2==0:\n",
    "        print('The number is even')\n",
    "    else:\n",
    "        print('The number is odd')"
   ]
  },
  {
   "cell_type": "code",
   "execution_count": 3,
   "id": "4b675bd5-de7a-49fd-add9-7972c673819b",
   "metadata": {},
   "outputs": [
    {
     "name": "stdout",
     "output_type": "stream",
     "text": [
      "The number is odd\n"
     ]
    }
   ],
   "source": [
    "even_odd(23)"
   ]
  },
  {
   "cell_type": "code",
   "execution_count": 6,
   "id": "bdcd8b16-9c3e-4868-bd09-3f504710c45f",
   "metadata": {},
   "outputs": [],
   "source": [
    "## Positional Argument\n",
    "## Keyword Argument\n",
    "def hello(name,age=21):\n",
    "    print(\"My name is {} and age is {}\". format(name,age))"
   ]
  },
  {
   "cell_type": "code",
   "execution_count": 7,
   "id": "514c6358-621b-4732-bad4-53eb0a4c1349",
   "metadata": {},
   "outputs": [
    {
     "name": "stdout",
     "output_type": "stream",
     "text": [
      "My name is Harsh and age is 21\n"
     ]
    }
   ],
   "source": [
    "hello('Harsh')"
   ]
  },
  {
   "cell_type": "code",
   "execution_count": 8,
   "id": "f41f9ef8-e4d9-4c02-a47c-51e3c92393e9",
   "metadata": {},
   "outputs": [],
   "source": [
    "def hello(*args, **kwargs):\n",
    "    print(args)\n",
    "    print(kwargs)"
   ]
  },
  {
   "cell_type": "code",
   "execution_count": 9,
   "id": "07f28671-a596-4b44-a822-d3482d0835ea",
   "metadata": {},
   "outputs": [
    {
     "name": "stdout",
     "output_type": "stream",
     "text": [
      "('Harsh', 'Saini')\n",
      "{'age': 18, 'Dob': 2003}\n"
     ]
    }
   ],
   "source": [
    "hello(\"Harsh\",\"Saini\", age=18, Dob=2003)"
   ]
  },
  {
   "cell_type": "code",
   "execution_count": 14,
   "id": "81e0129b-5255-4a45-875e-d1730c7dcb18",
   "metadata": {},
   "outputs": [],
   "source": [
    "St=['Harsh','Saini']\n",
    "dict_args={'age': 18, 'DOB': 2003}"
   ]
  },
  {
   "cell_type": "code",
   "execution_count": 15,
   "id": "fd3b038b-c25e-4c26-a187-f58406277858",
   "metadata": {},
   "outputs": [
    {
     "name": "stdout",
     "output_type": "stream",
     "text": [
      "('Harsh', 'Saini')\n",
      "{'age': 18, 'DOB': 2003}\n"
     ]
    }
   ],
   "source": [
    "hello(*St, **dict_args)"
   ]
  },
  {
   "cell_type": "raw",
   "id": "63111de0-d9be-49ab-9e8c-19a37d41b7b7",
   "metadata": {},
   "source": [
    "Lambda Function \n",
    "Anonymous function.\n",
    "A function with no name\n",
    "## Possible only if we have a single function"
   ]
  },
  {
   "cell_type": "code",
   "execution_count": 16,
   "id": "ea2cfda4-49a9-492d-8c97-98bdab9aed5e",
   "metadata": {},
   "outputs": [],
   "source": [
    "def addition(a,b):\n",
    "    return a+b\n"
   ]
  },
  {
   "cell_type": "code",
   "execution_count": 17,
   "id": "bdd3e923-0d93-46e4-9c91-19490939c617",
   "metadata": {},
   "outputs": [
    {
     "data": {
      "text/plain": [
       "7"
      ]
     },
     "execution_count": 17,
     "metadata": {},
     "output_type": "execute_result"
    }
   ],
   "source": [
    "addition(2,5)"
   ]
  },
  {
   "cell_type": "code",
   "execution_count": 18,
   "id": "8149bf85-ad7a-458c-90e0-c35ff8f9be73",
   "metadata": {},
   "outputs": [],
   "source": [
    "addition=lambda a,b:a+b"
   ]
  },
  {
   "cell_type": "code",
   "execution_count": 19,
   "id": "27992bcf-b3b9-4e97-89e3-0ac3c4470106",
   "metadata": {},
   "outputs": [
    {
     "data": {
      "text/plain": [
       "27"
      ]
     },
     "execution_count": 19,
     "metadata": {},
     "output_type": "execute_result"
    }
   ],
   "source": [
    "addition(12,15)"
   ]
  },
  {
   "cell_type": "markdown",
   "id": "a5539eb3-da24-4557-8490-f0d4d9d1e6fc",
   "metadata": {},
   "source": [
    "Map Function in Python"
   ]
  },
  {
   "cell_type": "code",
   "execution_count": 21,
   "id": "7ea51273-a198-4c28-b95e-ef256b82c0f3",
   "metadata": {},
   "outputs": [],
   "source": [
    "def even_or_odd(num):\n",
    "    if num%2==0:\n",
    "        return \"The {} is Even\".format(num)\n",
    "    else:\n",
    "        return \"The {} is odd\".format(num)\n",
    "    "
   ]
  },
  {
   "cell_type": "code",
   "execution_count": 22,
   "id": "5d36edb6-d5d6-4705-9ae1-5e20f7b876c9",
   "metadata": {},
   "outputs": [
    {
     "data": {
      "text/plain": [
       "'The 34 is Even'"
      ]
     },
     "execution_count": 22,
     "metadata": {},
     "output_type": "execute_result"
    }
   ],
   "source": [
    "even_or_odd(34)"
   ]
  },
  {
   "cell_type": "code",
   "execution_count": 23,
   "id": "96e4ed58-dff6-40a8-8b71-dc3f01543959",
   "metadata": {},
   "outputs": [],
   "source": [
    "First=[1,2,3,4,5,6,7,8,9,24,56,78]"
   ]
  },
  {
   "cell_type": "code",
   "execution_count": 25,
   "id": "ab5b68c2-13b3-4357-9271-8c6e1764d971",
   "metadata": {},
   "outputs": [
    {
     "data": {
      "text/plain": [
       "['The 1 is odd',\n",
       " 'The 2 is Even',\n",
       " 'The 3 is odd',\n",
       " 'The 4 is Even',\n",
       " 'The 5 is odd',\n",
       " 'The 6 is Even',\n",
       " 'The 7 is odd',\n",
       " 'The 8 is Even',\n",
       " 'The 9 is odd',\n",
       " 'The 24 is Even',\n",
       " 'The 56 is Even',\n",
       " 'The 78 is Even']"
      ]
     },
     "execution_count": 25,
     "metadata": {},
     "output_type": "execute_result"
    }
   ],
   "source": [
    "list(map(even_or_odd, First))"
   ]
  },
  {
   "cell_type": "raw",
   "id": "663e0a83-7cd2-4348-acfe-c84389daa94c",
   "metadata": {},
   "source": [
    "Filter Function (it's takes two attributes)"
   ]
  },
  {
   "cell_type": "code",
   "execution_count": 27,
   "id": "227b13e4-ff84-477b-bbab-7bce6d883366",
   "metadata": {},
   "outputs": [],
   "source": [
    "def even(num):\n",
    "    if num%2==0:\n",
    "        return True"
   ]
  },
  {
   "cell_type": "code",
   "execution_count": 28,
   "id": "4e62398c-8d21-4214-917a-7a088050ac41",
   "metadata": {},
   "outputs": [],
   "source": [
    "First=[1,2,3,4,5,6,7,8,9,24,56,78]"
   ]
  },
  {
   "cell_type": "code",
   "execution_count": 29,
   "id": "409b87a6-c425-49bc-adc4-f02c56a2a992",
   "metadata": {},
   "outputs": [
    {
     "ename": "NameError",
     "evalue": "name 'filer' is not defined",
     "output_type": "error",
     "traceback": [
      "\u001b[1;31m---------------------------------------------------------------------------\u001b[0m",
      "\u001b[1;31mNameError\u001b[0m                                 Traceback (most recent call last)",
      "Cell \u001b[1;32mIn[29], line 1\u001b[0m\n\u001b[1;32m----> 1\u001b[0m \u001b[38;5;28mlist\u001b[39m(\u001b[43mfiler\u001b[49m(even, First))\n",
      "\u001b[1;31mNameError\u001b[0m: name 'filer' is not defined"
     ]
    }
   ],
   "source": [
    "list(filer(even, First))"
   ]
  },
  {
   "cell_type": "code",
   "execution_count": null,
   "id": "ba8b1fbe-5599-4c1b-bd97-2834c06ce34e",
   "metadata": {},
   "outputs": [],
   "source": []
  }
 ],
 "metadata": {
  "kernelspec": {
   "display_name": "Python 3 (ipykernel)",
   "language": "python",
   "name": "python3"
  },
  "language_info": {
   "codemirror_mode": {
    "name": "ipython",
    "version": 3
   },
   "file_extension": ".py",
   "mimetype": "text/x-python",
   "name": "python",
   "nbconvert_exporter": "python",
   "pygments_lexer": "ipython3",
   "version": "3.11.5"
  }
 },
 "nbformat": 4,
 "nbformat_minor": 5
}
