{
 "cells": [
  {
   "cell_type": "raw",
   "id": "840b2ab9-135a-4220-8ac5-d567c70cd6dc",
   "metadata": {},
   "source": [
    "Python OOPS - Inheritance"
   ]
  },
  {
   "cell_type": "code",
   "execution_count": 12,
   "id": "4455dfd2-8b62-47f1-93c3-a9c879fc0431",
   "metadata": {},
   "outputs": [],
   "source": [
    "### All the class variables are public\n",
    "### Car Blueprint\n",
    "class Car():\n",
    "    def __init__(self,windows,doors,enginetype):\n",
    "        self.windows=windows\n",
    "        self.door=doors\n",
    "        self.enginetype=enginetype\n",
    "    def drive(self):\n",
    "        print(\"The Person drives the car\")"
   ]
  },
  {
   "cell_type": "code",
   "execution_count": 13,
   "id": "906a2893-7690-4cc3-a195-7cdbca01fcc9",
   "metadata": {},
   "outputs": [],
   "source": [
    "car=Car(4,2,\"Petrol\")"
   ]
  },
  {
   "cell_type": "code",
   "execution_count": 14,
   "id": "44d3728c-ba2f-4b44-8061-82e492bbd912",
   "metadata": {},
   "outputs": [
    {
     "data": {
      "text/plain": [
       "4"
      ]
     },
     "execution_count": 14,
     "metadata": {},
     "output_type": "execute_result"
    }
   ],
   "source": [
    "car.windows"
   ]
  },
  {
   "cell_type": "code",
   "execution_count": 15,
   "id": "befc176c-7956-4e7d-907b-dc707a674466",
   "metadata": {},
   "outputs": [
    {
     "data": {
      "text/plain": [
       "['__class__',\n",
       " '__delattr__',\n",
       " '__dict__',\n",
       " '__dir__',\n",
       " '__doc__',\n",
       " '__eq__',\n",
       " '__format__',\n",
       " '__ge__',\n",
       " '__getattribute__',\n",
       " '__getstate__',\n",
       " '__gt__',\n",
       " '__hash__',\n",
       " '__init__',\n",
       " '__init_subclass__',\n",
       " '__le__',\n",
       " '__lt__',\n",
       " '__module__',\n",
       " '__ne__',\n",
       " '__new__',\n",
       " '__reduce__',\n",
       " '__reduce_ex__',\n",
       " '__repr__',\n",
       " '__setattr__',\n",
       " '__sizeof__',\n",
       " '__str__',\n",
       " '__subclasshook__',\n",
       " '__weakref__',\n",
       " 'door',\n",
       " 'drive',\n",
       " 'enginetype',\n",
       " 'windows']"
      ]
     },
     "execution_count": 15,
     "metadata": {},
     "output_type": "execute_result"
    }
   ],
   "source": [
    "dir(car)"
   ]
  },
  {
   "cell_type": "code",
   "execution_count": 16,
   "id": "fe1e5816-287b-4d32-bcb0-e32e413b6afd",
   "metadata": {},
   "outputs": [
    {
     "data": {
      "text/plain": [
       "'Petrol'"
      ]
     },
     "execution_count": 16,
     "metadata": {},
     "output_type": "execute_result"
    }
   ],
   "source": [
    "car.enginetype"
   ]
  },
  {
   "cell_type": "code",
   "execution_count": 17,
   "id": "0a1685b8-a55d-444d-b6ab-4e58ff352f11",
   "metadata": {},
   "outputs": [
    {
     "name": "stdout",
     "output_type": "stream",
     "text": [
      "The Person drives the car\n"
     ]
    }
   ],
   "source": [
    "car.drive()"
   ]
  },
  {
   "cell_type": "code",
   "execution_count": 18,
   "id": "1b71f0cb-77ee-40c3-b80d-deb34da38088",
   "metadata": {},
   "outputs": [],
   "source": [
    "class audi(Car):\n",
    "    def __init__(self,windows,doors,enginetype,enableai):\n",
    "        super().__init__(windows,doors,enginetype)\n",
    "        self.enableai=enableai\n",
    "    def selfdriving(self):\n",
    "        print(\"Audi Supports Self Driving\")"
   ]
  },
  {
   "cell_type": "code",
   "execution_count": 20,
   "id": "95ff93ae-a4a7-4766-8d20-4e7179e822ce",
   "metadata": {},
   "outputs": [],
   "source": [
    "audiQ7 = audi(5,5,\"diesel\",True)"
   ]
  },
  {
   "cell_type": "code",
   "execution_count": 22,
   "id": "19de2e82-a8ca-4cad-9638-e5bbdf7a141e",
   "metadata": {},
   "outputs": [
    {
     "data": {
      "text/plain": [
       "True"
      ]
     },
     "execution_count": 22,
     "metadata": {},
     "output_type": "execute_result"
    }
   ],
   "source": [
    "audiQ7.enableai"
   ]
  },
  {
   "cell_type": "code",
   "execution_count": 24,
   "id": "19c9bce1-4715-4d14-b847-67ca391092c0",
   "metadata": {},
   "outputs": [
    {
     "data": {
      "text/plain": [
       "5"
      ]
     },
     "execution_count": 24,
     "metadata": {},
     "output_type": "execute_result"
    }
   ],
   "source": [
    "audiQ7.door"
   ]
  },
  {
   "cell_type": "raw",
   "id": "0cbd12f1-a039-4b95-bd3c-3127aa13dc9a",
   "metadata": {},
   "source": [
    "Magic Method in Classes "
   ]
  },
  {
   "cell_type": "code",
   "execution_count": 25,
   "id": "1716db1f-9d64-4006-90a3-e6d9fd593061",
   "metadata": {},
   "outputs": [],
   "source": [
    "c=Car(4,5,\"Petol\")"
   ]
  },
  {
   "cell_type": "code",
   "execution_count": 26,
   "id": "073bd783-99d1-4b6a-87f0-bbf055e79ef3",
   "metadata": {},
   "outputs": [
    {
     "data": {
      "text/plain": [
       "<__main__.Car at 0x1d38a9c4c50>"
      ]
     },
     "execution_count": 26,
     "metadata": {},
     "output_type": "execute_result"
    }
   ],
   "source": [
    "c"
   ]
  },
  {
   "cell_type": "code",
   "execution_count": 34,
   "id": "853237b0-d34a-4d3e-b84f-451adb66f446",
   "metadata": {},
   "outputs": [],
   "source": [
    "### All the class variables are public\n",
    "### Car Blueprint\n",
    "class Car():\n",
    "    def __new__(self,windows,doors,enginetype):\n",
    "        print(\"The object has started getting initialized\")\n",
    "    def __init__(self,windows,doors,enginetype):\n",
    "        self.windows=windows\n",
    "        self.door=doors\n",
    "        self.enginetype=enginetype\n",
    "    def __str__(self):\n",
    "        print(\"The object has been Initialized\")\n",
    "    def __sizeof__(self):\n",
    "        return \"This displays size of the object\"\n",
    "    def drive(self):\n",
    "        print(\"The Person drives the car\")"
   ]
  },
  {
   "cell_type": "code",
   "execution_count": 36,
   "id": "587ed9d6-7692-45f4-b868-4f63db8542ef",
   "metadata": {},
   "outputs": [
    {
     "name": "stdout",
     "output_type": "stream",
     "text": [
      "The object has started getting initialized\n"
     ]
    }
   ],
   "source": [
    "c=Car(2,4,\"Diesel\")"
   ]
  },
  {
   "cell_type": "code",
   "execution_count": 35,
   "id": "29c1bab3-8672-4437-9d02-9b752ac18d91",
   "metadata": {},
   "outputs": [
    {
     "name": "stdout",
     "output_type": "stream",
     "text": [
      "<__main__.Car object at 0x000001D38A9C4C50>\n"
     ]
    }
   ],
   "source": [
    "print(c)"
   ]
  },
  {
   "cell_type": "code",
   "execution_count": 33,
   "id": "9d64f8ed-f9d1-4c14-b760-75aff70807b0",
   "metadata": {},
   "outputs": [
    {
     "data": {
      "text/plain": [
       "24"
      ]
     },
     "execution_count": 33,
     "metadata": {},
     "output_type": "execute_result"
    }
   ],
   "source": [
    "c.__sizeof__()"
   ]
  },
  {
   "cell_type": "code",
   "execution_count": null,
   "id": "65b62a3e-6bae-4025-8ff6-dde39d7517a3",
   "metadata": {},
   "outputs": [],
   "source": []
  }
 ],
 "metadata": {
  "kernelspec": {
   "display_name": "Python 3 (ipykernel)",
   "language": "python",
   "name": "python3"
  },
  "language_info": {
   "codemirror_mode": {
    "name": "ipython",
    "version": 3
   },
   "file_extension": ".py",
   "mimetype": "text/x-python",
   "name": "python",
   "nbconvert_exporter": "python",
   "pygments_lexer": "ipython3",
   "version": "3.11.5"
  }
 },
 "nbformat": 4,
 "nbformat_minor": 5
}
