{
 "cells": [
  {
   "cell_type": "raw",
   "id": "97185ae9-fb96-4759-b169-62e972b9e33d",
   "metadata": {},
   "source": [
    "String Formatting in Python"
   ]
  },
  {
   "cell_type": "code",
   "execution_count": 1,
   "id": "e4ab660f-5814-4da2-8791-7e1042cc40af",
   "metadata": {},
   "outputs": [],
   "source": [
    "def greeting(name):\n",
    "    return \"Hello {}.welcome to the community\".format(name)"
   ]
  },
  {
   "cell_type": "code",
   "execution_count": 2,
   "id": "023f7eab-87cb-4765-b696-415e8522861c",
   "metadata": {},
   "outputs": [
    {
     "data": {
      "text/plain": [
       "'Hello Harsh.welcome to the community'"
      ]
     },
     "execution_count": 2,
     "metadata": {},
     "output_type": "execute_result"
    }
   ],
   "source": [
    "greeting(\"Harsh\")"
   ]
  },
  {
   "cell_type": "code",
   "execution_count": 6,
   "id": "c4691a52-1e09-418e-8ac8-77a2e5d3890d",
   "metadata": {},
   "outputs": [],
   "source": [
    "def welcome_email(firstname, lastname):\n",
    "    return \"welcome {}.Everyone please welcome {}\".format(firstname,lastname)"
   ]
  },
  {
   "cell_type": "code",
   "execution_count": 7,
   "id": "6f36f8cd-44c4-4fec-9010-3cf0f426515d",
   "metadata": {},
   "outputs": [
    {
     "data": {
      "text/plain": [
       "'welcome Harsh.Everyone please welcome Harshu'"
      ]
     },
     "execution_count": 7,
     "metadata": {},
     "output_type": "execute_result"
    }
   ],
   "source": [
    "welcome_email('Harsh', 'Harshu')"
   ]
  },
  {
   "cell_type": "code",
   "execution_count": null,
   "id": "988ee3e2-562b-4094-aa0e-c3f0090eb322",
   "metadata": {},
   "outputs": [],
   "source": []
  }
 ],
 "metadata": {
  "kernelspec": {
   "display_name": "Python 3 (ipykernel)",
   "language": "python",
   "name": "python3"
  },
  "language_info": {
   "codemirror_mode": {
    "name": "ipython",
    "version": 3
   },
   "file_extension": ".py",
   "mimetype": "text/x-python",
   "name": "python",
   "nbconvert_exporter": "python",
   "pygments_lexer": "ipython3",
   "version": "3.11.5"
  }
 },
 "nbformat": 4,
 "nbformat_minor": 5
}
