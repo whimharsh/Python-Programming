{
 "cells": [
  {
   "cell_type": "raw",
   "id": "f1a535a2-c7ed-43b2-8c0f-840e7f4e8ee3",
   "metadata": {},
   "source": [
    "Python Exception Handlin"
   ]
  },
  {
   "cell_type": "code",
   "execution_count": 8,
   "id": "4a8bf415-bc1d-4ab4-bedf-2d1b9aeb2f13",
   "metadata": {},
   "outputs": [
    {
     "name": "stdin",
     "output_type": "stream",
     "text": [
      "Enter the number 1 20\n",
      "Enter the number 2 0\n"
     ]
    },
    {
     "name": "stdout",
     "output_type": "stream",
     "text": [
      "division by zero\n"
     ]
    }
   ],
   "source": [
    "try:\n",
    "    ##code block where exception can occur\n",
    "    a=int(input(\"Enter the number 1\"))\n",
    "    b=int(input(\"Enter the number 2\"))\n",
    "    c=a/b\n",
    "    d=a*b\n",
    "    e=a+b\n",
    "    print(c)\n",
    "    print(d)\n",
    "    print(e)\n",
    "except NameError:\n",
    "    print(\"The User have not defined the variable\")\n",
    "except TypeError:\n",
    "    print(\"Try to make the datatype similar\")\n",
    "except Exception as ex:\n",
    "    print(ex)"
   ]
  },
  {
   "cell_type": "code",
   "execution_count": 9,
   "id": "2241d472-70fb-404b-843b-7fd66bba44d7",
   "metadata": {},
   "outputs": [
    {
     "name": "stdin",
     "output_type": "stream",
     "text": [
      "Enter the number 1 20\n",
      "Enter the number 2 45\n"
     ]
    },
    {
     "name": "stdout",
     "output_type": "stream",
     "text": [
      "0.4444444444444444\n",
      "900\n",
      "65\n"
     ]
    }
   ],
   "source": [
    "try:\n",
    "    ##code block where exception can occur\n",
    "    a=int(input(\"Enter the number 1\"))\n",
    "    b=int(input(\"Enter the number 2\"))\n",
    "    c=a/b\n",
    "    d=a*b\n",
    "    e=a+b\n",
    "    print(c)\n",
    "    print(d)\n",
    "    print(e)\n",
    "except NameError:\n",
    "    print(\"The User have not defined the variable\")\n",
    "except TypeError:\n",
    "    print(\"Try to make the datatype similar\")\n",
    "except Exception as ex:\n",
    "    print(ex)"
   ]
  },
  {
   "cell_type": "code",
   "execution_count": 14,
   "id": "67a07b2c-2220-40a5-84c0-f606ff79b1c7",
   "metadata": {},
   "outputs": [
    {
     "name": "stdin",
     "output_type": "stream",
     "text": [
      "Enter the number 1 15\n",
      "Enter the number 2 0\n"
     ]
    },
    {
     "name": "stdout",
     "output_type": "stream",
     "text": [
      "division by zero\n",
      "The Execution is done\n"
     ]
    }
   ],
   "source": [
    "try:\n",
    "    ##code block where exception can occur\n",
    "    a=int(input(\"Enter the number 1\"))\n",
    "    b=int(input(\"Enter the number 2\"))\n",
    "    c=a/b\n",
    "    d=a*b\n",
    "    e=a+b\n",
    "except NameError:\n",
    "    print(\"The User have not defined the variable\")\n",
    "except TypeError:\n",
    "    print(\"Try to make the datatype similar\")\n",
    "except Exception as ex:\n",
    "    print(ex)\n",
    "else:\n",
    "    print(c)\n",
    "    print(d)\n",
    "    print(e)\n",
    "finally:\n",
    "    print(\"The Execution is done\")"
   ]
  },
  {
   "cell_type": "raw",
   "id": "cca355c6-ad48-478a-b2b3-dac177a16ffb",
   "metadata": {},
   "source": [
    "Custom Exception"
   ]
  },
  {
   "cell_type": "code",
   "execution_count": 15,
   "id": "fd899313-1f41-439e-98ac-53ff70ba46db",
   "metadata": {},
   "outputs": [],
   "source": [
    "class Error(Exception):\n",
    "    pass\n",
    "\n",
    "class dobException(Error):\n",
    "    pass\n",
    "    "
   ]
  },
  {
   "cell_type": "code",
   "execution_count": 21,
   "id": "2fc1e9ba-4a55-4035-b098-a4a01d76aea1",
   "metadata": {},
   "outputs": [
    {
     "name": "stdin",
     "output_type": "stream",
     "text": [
      "Enter the year of Birth 188\n"
     ]
    },
    {
     "name": "stdout",
     "output_type": "stream",
     "text": [
      "The year age is not valid. You cannot apply for the exams\n"
     ]
    }
   ],
   "source": [
    "year=int(input(\"Enter the year of Birth\"))\n",
    "age=2024-year\n",
    "try:\n",
    "    if age<=30 & age>20:\n",
    "       pass\n",
    "    else:\n",
    "        raise dobException\n",
    "except dobException:\n",
    "    print(\"The year age is not valid. You cannot apply for the exams\")\n",
    "    \n"
   ]
  },
  {
   "cell_type": "code",
   "execution_count": null,
   "id": "8d47ce6f-078a-47c6-a1ee-fefd0b574700",
   "metadata": {},
   "outputs": [],
   "source": []
  }
 ],
 "metadata": {
  "kernelspec": {
   "display_name": "Python 3 (ipykernel)",
   "language": "python",
   "name": "python3"
  },
  "language_info": {
   "codemirror_mode": {
    "name": "ipython",
    "version": 3
   },
   "file_extension": ".py",
   "mimetype": "text/x-python",
   "name": "python",
   "nbconvert_exporter": "python",
   "pygments_lexer": "ipython3",
   "version": "3.11.5"
  }
 },
 "nbformat": 4,
 "nbformat_minor": 5
}
