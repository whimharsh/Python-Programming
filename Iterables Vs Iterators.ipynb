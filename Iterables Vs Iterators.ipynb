{
 "cells": [
  {
   "cell_type": "raw",
   "id": "50efcec4-1471-4614-a36b-6ea020f5e5e3",
   "metadata": {},
   "source": [
    "## List is iterable "
   ]
  },
  {
   "cell_type": "raw",
   "id": "75236da9-32de-42a3-bb72-e768f9fb5c26",
   "metadata": {},
   "source": [
    "There is a inbuilt function iterator which convert "
   ]
  },
  {
   "cell_type": "code",
   "execution_count": 1,
   "id": "53d7bf6a-dd36-47d9-a08b-ccb56d7c56aa",
   "metadata": {},
   "outputs": [
    {
     "name": "stdout",
     "output_type": "stream",
     "text": [
      "1\n",
      "2\n",
      "3\n",
      "4\n",
      "5\n",
      "6\n",
      "7\n"
     ]
    }
   ],
   "source": [
    "First = [1,2,3,4,5,6,7]\n",
    "\n",
    "for i in First:\n",
    "    print(i)"
   ]
  },
  {
   "cell_type": "code",
   "execution_count": 2,
   "id": "6224aede-4656-436f-af5f-640849f878df",
   "metadata": {},
   "outputs": [],
   "source": [
    "First1=iter(First)"
   ]
  },
  {
   "cell_type": "code",
   "execution_count": 3,
   "id": "dd1aa9f9-9bf4-4646-82d9-3723a4c351f9",
   "metadata": {},
   "outputs": [
    {
     "data": {
      "text/plain": [
       "<list_iterator at 0x1bbd673d810>"
      ]
     },
     "execution_count": 3,
     "metadata": {},
     "output_type": "execute_result"
    }
   ],
   "source": [
    "First1"
   ]
  },
  {
   "cell_type": "code",
   "execution_count": 7,
   "id": "f43ae679-6628-4e19-90ac-45e3b17aa099",
   "metadata": {},
   "outputs": [
    {
     "data": {
      "text/plain": [
       "3"
      ]
     },
     "execution_count": 7,
     "metadata": {},
     "output_type": "execute_result"
    }
   ],
   "source": [
    "##It initialise only one by one element\n",
    "next(First1)"
   ]
  },
  {
   "cell_type": "code",
   "execution_count": 8,
   "id": "232db27c-661f-4eab-af89-58ac675f4a58",
   "metadata": {},
   "outputs": [
    {
     "name": "stdout",
     "output_type": "stream",
     "text": [
      "4\n",
      "5\n",
      "6\n",
      "7\n"
     ]
    }
   ],
   "source": [
    "for i in First1:\n",
    "    print(i)"
   ]
  },
  {
   "cell_type": "code",
   "execution_count": null,
   "id": "24dcd49e-144a-4a8f-adb0-64f69dde3d3f",
   "metadata": {},
   "outputs": [],
   "source": []
  }
 ],
 "metadata": {
  "kernelspec": {
   "display_name": "Python 3 (ipykernel)",
   "language": "python",
   "name": "python3"
  },
  "language_info": {
   "codemirror_mode": {
    "name": "ipython",
    "version": 3
   },
   "file_extension": ".py",
   "mimetype": "text/x-python",
   "name": "python",
   "nbconvert_exporter": "python",
   "pygments_lexer": "ipython3",
   "version": "3.11.5"
  }
 },
 "nbformat": 4,
 "nbformat_minor": 5
}
