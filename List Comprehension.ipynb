{
 "cells": [
  {
   "cell_type": "raw",
   "id": "e4b09726-49a8-4a22-8f18-775edd904ed9",
   "metadata": {},
   "source": [
    "List Comprehension \n",
    "It is provide a concise way to create a list.It's consitis of brackets containing an expression followed by clause, then sero or more for or if clauses. The expression can be anything, meaning you can put in all kinds of objects in lists."
   ]
  },
  {
   "cell_type": "code",
   "execution_count": 12,
   "id": "e5be060d-b45c-43fc-a3b2-62c1fd791684",
   "metadata": {},
   "outputs": [],
   "source": [
    "st1=[]\n",
    "def st_square(st):\n",
    "    for i in st:\n",
    "        st1.append(i*i)\n",
    "    return st1"
   ]
  },
  {
   "cell_type": "code",
   "execution_count": 13,
   "id": "2b42db42-30ab-40d9-b6ca-c39bafb48994",
   "metadata": {},
   "outputs": [
    {
     "data": {
      "text/plain": [
       "[1, 4, 9, 16, 25, 36, 49]"
      ]
     },
     "execution_count": 13,
     "metadata": {},
     "output_type": "execute_result"
    }
   ],
   "source": [
    "st_square([1,2,3,4,5,6,7])"
   ]
  },
  {
   "cell_type": "code",
   "execution_count": 14,
   "id": "ad05a305-0151-4354-a222-a9db3ed8e1aa",
   "metadata": {},
   "outputs": [],
   "source": [
    "st=([1,2,3,4,56,7,])"
   ]
  },
  {
   "cell_type": "code",
   "execution_count": 15,
   "id": "6a83b785-6084-4668-9da3-a173765fcb60",
   "metadata": {},
   "outputs": [
    {
     "data": {
      "text/plain": [
       "[1, 4, 9, 16, 3136, 49]"
      ]
     },
     "execution_count": 15,
     "metadata": {},
     "output_type": "execute_result"
    }
   ],
   "source": [
    "[i*i for i in st]"
   ]
  },
  {
   "cell_type": "code",
   "execution_count": null,
   "id": "71af6a1f-4b89-47b2-acf7-fb3532f09d82",
   "metadata": {},
   "outputs": [],
   "source": []
  }
 ],
 "metadata": {
  "kernelspec": {
   "display_name": "Python 3 (ipykernel)",
   "language": "python",
   "name": "python3"
  },
  "language_info": {
   "codemirror_mode": {
    "name": "ipython",
    "version": 3
   },
   "file_extension": ".py",
   "mimetype": "text/x-python",
   "name": "python",
   "nbconvert_exporter": "python",
   "pygments_lexer": "ipython3",
   "version": "3.11.5"
  }
 },
 "nbformat": 4,
 "nbformat_minor": 5
}
